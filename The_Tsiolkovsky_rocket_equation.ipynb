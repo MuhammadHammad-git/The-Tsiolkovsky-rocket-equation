{
  "nbformat": 4,
  "nbformat_minor": 0,
  "metadata": {
    "colab": {
      "provenance": [],
      "include_colab_link": true
    },
    "kernelspec": {
      "name": "python3",
      "display_name": "Python 3"
    }
  },
  "cells": [
    {
      "cell_type": "markdown",
      "metadata": {
        "id": "view-in-github",
        "colab_type": "text"
      },
      "source": [
        "<a href=\"https://colab.research.google.com/github/MuhammadHammad-git/The-Tsiolkovsky-rocket-equation/blob/main/The_Tsiolkovsky_rocket_equation.ipynb\" target=\"_parent\"><img src=\"https://colab.research.google.com/assets/colab-badge.svg\" alt=\"Open In Colab\"/></a>"
      ]
    },
    {
      "cell_type": "markdown",
      "metadata": {
        "id": "rmtcwrsHsxnC"
      },
      "source": [
        "# Problem Statement\n",
        "The Tsiolkovsky rocket equation is an ideal rocket equation which has the direct relation between change in velocity ($\\Delta v$), exhaust gases velocity ($v_0$), wet mass of the rocket ($m_0$), i.e. weight of the rocket at the time of take off including the weight of the fuel and dry mass of the rocket ($m_f$), i.e. when rocket has burnt all the fuel.\n",
        "\n",
        "$$\\Delta v = v_0 \\log (m_0/m_f)$$\n",
        "\n",
        "This problem optimizes the design of a simple rocket for profit. Potential revenue increases with greater change in velocity, as greater velocities allow the payload to reach higher orbits that have less drag, allowing it to remain in orbit longer. Wet mass, dry mass, and exhaust velocity are design variables, where wet mass is the total initial mass of the rocket, including propellant, and dry mass is the mass of the rocket at full ascent.\n",
        "\n"
      ]
    },
    {
      "cell_type": "markdown",
      "metadata": {
        "id": "YHTnmKzaqMQO"
      },
      "source": [
        "![Rocket](https://drive.google.com/uc?id=1zpdoyHLf-SvXatv4xmW1_MFiiYBfjzNA)"
      ]
    },
    {
      "cell_type": "markdown",
      "metadata": {
        "id": "k5pM0QHCJXEf"
      },
      "source": [
        "The rocket must have a dry mass of at least $20,000$ kilograms and the change in velocity should be between $9,400$ meters per second and $20,200$ meters per second. Varying designs allow for exhaust velocities ranging from $2,500 m/s$ to $4,500 m/s$. An appropriate guess value for the wet mass is $150,650 km$.\n",
        "\n",
        "The overall profit from the rocket is:\n",
        "\n",
        "$$Profit = R - C_f - C_d - C_e$$\n",
        "\n",
        "where $C_f$ is the cost of the fuel, given by\n",
        "$$C_f = 4.154 (m_0-m_f)$$\n",
        "\n",
        "$C_d$ is the cost of the rocket\n",
        " $$C_d = 154.36 * m_f$$\n",
        "\n",
        "$C_e$ is the cost in relation to adusting the exhaust velocity\n",
        " $$C_e= 75 v_0$$\n",
        "\n",
        " R is the revenue and is given by\n",
        " $$R=550 \\Delta v$$"
      ]
    },
    {
      "cell_type": "markdown",
      "metadata": {
        "id": "ZapKlbE7LJe-"
      },
      "source": [
        "# Code"
      ]
    },
    {
      "cell_type": "code",
      "metadata": {
        "id": "DDehVgSXFfVm"
      },
      "source": [
        "import math\n",
        "from scipy.optimize import Bounds,minimize\n",
        "import numpy as np"
      ],
      "execution_count": null,
      "outputs": []
    },
    {
      "cell_type": "markdown",
      "metadata": {
        "id": "xZF4eYB2p8N3"
      },
      "source": [
        "## Objective function\n",
        "Profit is multiplied by -1 because it has to be maximized using a minimization function."
      ]
    },
    {
      "cell_type": "code",
      "metadata": {
        "id": "dsNqrV-PCs7P"
      },
      "source": [
        "def objective_function(x):\n",
        "  v0=x[0]\n",
        "  m0 = x[1]\n",
        "  mf = x[2]\n",
        "\n",
        "  Ce= 75 * v0\n",
        "  Cd= 154.36 * mf\n",
        "  Cf= 4.154*(m0-mf)\n",
        "  dv=v0*math.log((m0/mf))\n",
        "  R= 550*dv\n",
        "  profit = R-Cf-Cd-Ce\n",
        "  return -1*profit\n",
        "\n"
      ],
      "execution_count": null,
      "outputs": []
    },
    {
      "cell_type": "markdown",
      "metadata": {
        "id": "KEXdqEGDi_zB"
      },
      "source": [
        "## bounds\n",
        "Note: Bounds are implemented using the Bounds class which was the second method mentioned in the scipy.optimize.minimize documentation. It is slightly different from what we covered in last lecture.\n",
        "\n",
        "* bounds for exhaust velocity are provided\n",
        "* Lower bound of 21000 is assumed for the rocket. Because rocket's wet mass would be greater than rocket's dry mass. If this bound is skiped, it might not effect the optimization alogrithm results, but on the other hand the algo. will look for broader range of value for m0, which will increase the computational efforts. Upper bound limit can also be provided, say you can't built a rocket big enough to hold 3,000 tons of fuel.\n",
        "* Lower bound on the rocket's dry mass is provided, i.e. 20,000. You can think of this limit as the weight below which rocket is safe enough or strong enough and it should include the payload of the rocket as well.\n"
      ]
    },
    {
      "cell_type": "code",
      "metadata": {
        "id": "lRH6pQ6zhhAh"
      },
      "source": [
        "\n",
        "lb = np.array([[2500],\n",
        "               [21000],\n",
        "               [20000]]) # in order of v0,m0 and mf\n",
        "\n",
        "up = np.array([[4500],\n",
        "               [np.inf],\n",
        "               [np.inf]])\n",
        "mybounds=Bounds(lb,up)\n",
        "\n",
        "x0=np.array([[3500],\n",
        "             [150650],\n",
        "             [21000]])"
      ],
      "execution_count": null,
      "outputs": []
    },
    {
      "cell_type": "markdown",
      "metadata": {
        "id": "_qoAj5ZTmqEb"
      },
      "source": [
        "## Constraints\n",
        "Rocket's change in velocity ($d_v$) has an upper and lower limit but it can't be treated as a bound, because $d_v$ is not a design variable and it is being calculated by the design variables. Currently, the constraint on $d_v$ is implemented in the form of two constraints for the sake of simplicity but it can be implemented as one constraint as well.\n",
        "\n",
        "Physical reasoning behind this contraint could be that if rocket moves faster than $20200 m/s$ then it can burn due to air friction at the time of lift off and might not be able to exit the earth's gravity if change in velocity is less $9400 m/s$"
      ]
    },
    {
      "cell_type": "code",
      "metadata": {
        "id": "GrQbFsBMbKRz"
      },
      "source": [
        "def constraint1(x):\n",
        "  v0=x[0]\n",
        "  m0 = x[1]\n",
        "  mf = x[2]\n",
        "  dv=v0*math.log((m0/mf),10)-9400\n",
        "  return dv\n",
        "\n",
        "def constraint2(x):\n",
        "  v0=x[0]\n",
        "  m0 = x[1]\n",
        "  mf = x[2]\n",
        "  dv=v0*math.log((m0/mf),10)+20200\n",
        "  return dv\n",
        "\n",
        "con1={'fun':constraint1,'type':'ineq'}\n",
        "con2={'fun':constraint2,'type':'ineq'}\n",
        "myconstraints = (con1,con2)"
      ],
      "execution_count": null,
      "outputs": []
    },
    {
      "cell_type": "code",
      "metadata": {
        "id": "lWkeiIQibFpP",
        "colab": {
          "base_uri": "https://localhost:8080/"
        },
        "outputId": "874e7440-6ab0-4c65-8116-64ee4ea77b8c"
      },
      "source": [
        "sol = minimize(objective_function, x0, method='SLSQP', bounds=mybounds, constraints=myconstraints)\n",
        "sol\n"
      ],
      "execution_count": null,
      "outputs": [
        {
          "output_type": "execute_result",
          "data": {
            "text/plain": [
              "     fun: 1632211.5616472778\n",
              "     jac: array([-2570.375  ,     3.125  ,   273.84375])\n",
              " message: 'Optimization terminated successfully.'\n",
              "    nfev: 95\n",
              "     nit: 22\n",
              "    njev: 18\n",
              "  status: 0\n",
              " success: True\n",
              "       x: array([   4500.        , 2454250.47962062,   20000.        ])"
            ]
          },
          "metadata": {
            "tags": []
          },
          "execution_count": 77
        }
      ]
    },
    {
      "cell_type": "code",
      "metadata": {
        "id": "XOaZHsvZhizA",
        "colab": {
          "base_uri": "https://localhost:8080/"
        },
        "outputId": "6d76f0b3-2bf9-42b3-be3e-320132c91033"
      },
      "source": [
        "objective_function(x0)"
      ],
      "execution_count": null,
      "outputs": [
        {
          "output_type": "execute_result",
          "data": {
            "text/plain": [
              "array([249535.20638319])"
            ]
          },
          "metadata": {
            "tags": []
          },
          "execution_count": 78
        }
      ]
    },
    {
      "cell_type": "markdown",
      "metadata": {
        "id": "k-HY1RUD1O49"
      },
      "source": [
        "### Whats the optimized value of the objective function?"
      ]
    },
    {
      "cell_type": "code",
      "metadata": {
        "id": "o1OfTd9qh64d",
        "colab": {
          "base_uri": "https://localhost:8080/"
        },
        "outputId": "1d6606f4-87b9-4eb8-f548-a50552fe5474"
      },
      "source": [
        "objective_function(sol.x)"
      ],
      "execution_count": null,
      "outputs": [
        {
          "output_type": "execute_result",
          "data": {
            "text/plain": [
              "1632211.5616472778"
            ]
          },
          "metadata": {
            "tags": []
          },
          "execution_count": 79
        }
      ]
    },
    {
      "cell_type": "markdown",
      "metadata": {
        "id": "cN0mUhqE2ABy"
      },
      "source": [
        "### For what exhaust velocity the rocket should be designed?\n",
        "4500 m/s"
      ]
    },
    {
      "cell_type": "code",
      "metadata": {
        "colab": {
          "base_uri": "https://localhost:8080/"
        },
        "id": "DrudVdo9m7Bc",
        "outputId": "0c29246d-5c98-4577-ac78-777f07967802"
      },
      "source": [
        "sol.x[0]"
      ],
      "execution_count": null,
      "outputs": [
        {
          "output_type": "execute_result",
          "data": {
            "text/plain": [
              "4500.0"
            ]
          },
          "metadata": {
            "tags": []
          },
          "execution_count": 80
        }
      ]
    },
    {
      "cell_type": "markdown",
      "metadata": {
        "id": "hB4RBWyq2PUp"
      },
      "source": [
        "### For what wet mass the rocket should be designed?\n",
        "2454250.47962062 kg"
      ]
    },
    {
      "cell_type": "code",
      "metadata": {
        "colab": {
          "base_uri": "https://localhost:8080/"
        },
        "id": "iN77KPaxm9HT",
        "outputId": "044dcc68-b9a7-4f8b-91f6-5b8a61c07fe5"
      },
      "source": [
        "sol.x[1]"
      ],
      "execution_count": null,
      "outputs": [
        {
          "output_type": "execute_result",
          "data": {
            "text/plain": [
              "2454250.4796206155"
            ]
          },
          "metadata": {
            "tags": []
          },
          "execution_count": 81
        }
      ]
    }
  ]
}